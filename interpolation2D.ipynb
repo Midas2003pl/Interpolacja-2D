{
 "cells": [
  {
   "cell_type": "code",
   "execution_count": 107,
   "metadata": {},
   "outputs": [],
   "source": [
    "import numpy as np\n",
    "from PIL import Image as im\n",
    "from sys import exit"
   ]
  },
  {
   "cell_type": "code",
   "execution_count": 108,
   "metadata": {},
   "outputs": [],
   "source": [
    "def pgm_to_matrix(image):\n",
    "    matrix = list(image.getdata())\n",
    "    width, height = image.size\n",
    "    return [matrix[i:i+width] for i in range(0, len(matrix), width)]"
   ]
  },
  {
   "cell_type": "code",
   "execution_count": 109,
   "metadata": {},
   "outputs": [],
   "source": [
    "def matrix_to_pgm(matrix):\n",
    "    image_array = np.array(matrix, dtype=np.uint8)\n",
    "    return im.fromarray(image_array)"
   ]
  },
  {
   "cell_type": "code",
   "execution_count": 110,
   "metadata": {},
   "outputs": [],
   "source": [
    "def print_arr(arr):\n",
    "    rows = len(arr)\n",
    "\n",
    "    for y in range(rows):\n",
    "        print(arr[y], \"\\n\")"
   ]
  },
  {
   "cell_type": "code",
   "execution_count": 121,
   "metadata": {},
   "outputs": [],
   "source": [
    "def reduce_matrix(matrix, scale):\n",
    "    rows = len(matrix)\n",
    "    cols = len(matrix[0])\n",
    "\n",
    "    rrows = rows // scale\n",
    "    rcols = cols // scale\n",
    "\n",
    "    rmatrix = [[0 for _ in range(rcols)] for _ in range(rrows)]\n",
    "\n",
    "    scale_sqr = scale**2\n",
    "\n",
    "    for y in range(rrows):\n",
    "        my = y * scale\n",
    "        for x in range(rcols):\n",
    "            mx = x * scale\n",
    "            for i in range(scale):\n",
    "                for j in range(scale):\n",
    "                    rmatrix[x][y] += matrix[mx + i][my + j]\n",
    "            rmatrix[x][y] /= scale_sqr\n",
    "\n",
    "    return rmatrix"
   ]
  },
  {
   "cell_type": "code",
   "execution_count": 130,
   "metadata": {},
   "outputs": [],
   "source": [
    "def extend_matrix_1(matrix, scale):\n",
    "    rows = len(matrix)\n",
    "    cols = len(matrix[0])\n",
    "\n",
    "    rrows = rows * scale\n",
    "    rcols = cols * scale\n",
    "\n",
    "    rmatrix = [[0 for _ in range(rcols)] for _ in range(rrows)]\n",
    "\n",
    "    # nearest neighbor\n",
    "    for y in range(rrows):\n",
    "        ry = y // scale\n",
    "        for x in range(rcols):\n",
    "            rmatrix[x][y] = matrix[x // scale][ry]\n",
    "                \n",
    "    return rmatrix       "
   ]
  },
  {
   "cell_type": "code",
   "execution_count": 131,
   "metadata": {},
   "outputs": [],
   "source": [
    "def extend_matrix_2(matrix, scale):\n",
    "    rows = len(matrix)\n",
    "    cols = len(matrix[0])\n",
    "\n",
    "    rrows = rows * scale\n",
    "    rcols = cols * scale\n",
    "\n",
    "    rmatrix = [[0 for _ in range(rcols)] for _ in range(rrows)]\n",
    "\n",
    "    # bilinear interpolation\n",
    "\n",
    "    # vertical\n",
    "    for y in range(0, rrows, scale):\n",
    "        for x in range(0, rcols, scale):\n",
    "                rmatrix[x][y] = matrix[x // scale][y // scale]\n",
    "      \n",
    "\n",
    "    for y in range(0, rrows, scale):\n",
    "        for x in range(rcols - scale):\n",
    "            if x % scale != 0:\n",
    "                x1 = x - (x % scale)\n",
    "                x2 = x1 + scale\n",
    "                            \n",
    "                rmatrix[x][y] = ( (x2 - x)*rmatrix[x1][y] + (x - x1)*rmatrix[x2][y] ) / scale\n",
    "    \n",
    "    \n",
    "    for y in range(0, rrows, scale):\n",
    "        for x in range(rcols - scale, rcols):\n",
    "            rmatrix[x][y] = rmatrix[rcols - scale][y]\n",
    "\n",
    "    # horizontal\n",
    "    for y in range(rrows - scale):\n",
    "        for x in range(rcols):\n",
    "            if y % scale != 0:\n",
    "                y1 = y - (y % scale)\n",
    "                y2 = y1 + scale\n",
    "                            \n",
    "                rmatrix[x][y] = ( (y2 - y)*rmatrix[x][y1] + (y - y1)*rmatrix[x][y2] ) / scale\n",
    "    \n",
    "    for y in range(rrows - scale, rrows):\n",
    "        for x in range(rcols):\n",
    "            rmatrix[x][y] = rmatrix[x][rrows - scale]\n",
    "                     \n",
    "                \n",
    "    return rmatrix     "
   ]
  },
  {
   "cell_type": "code",
   "execution_count": 132,
   "metadata": {},
   "outputs": [],
   "source": [
    "def mse(matrix, rmatrix, scale, option):\n",
    "    N = len(rmatrix)\n",
    "    M = len(rmatrix[0])\n",
    "    sum = 0\n",
    "    for i in range(N):\n",
    "        for j in range(M):\n",
    "            if option == '1':       \n",
    "                sum += (rmatrix[i][j] - matrix[i * scale][j * scale]) ** 2\n",
    "            elif option == '2':\n",
    "                sum += (rmatrix[i][j] - matrix[i // scale][j // scale]) ** 2\n",
    "\n",
    "    return sum / N*M"
   ]
  },
  {
   "cell_type": "code",
   "execution_count": 135,
   "metadata": {},
   "outputs": [
    {
     "name": "stdout",
     "output_type": "stream",
     "text": [
      "MSE:  462685278.2199309\n"
     ]
    }
   ],
   "source": [
    "image = im.open(\"barbara.ascii.pgm\")\n",
    "#image.show()\n",
    "\n",
    "matrix = pgm_to_matrix(image)\n",
    "#print_arr(matrix)\n",
    "\n",
    "rmatrix = []\n",
    "\n",
    "option = str(input(\"Enter the option: \"))\n",
    "scale = int(input(\"Enter the scale: \"))\n",
    "\n",
    "if option == '1':\n",
    "    rmatrix = reduce_matrix(matrix, scale)\n",
    "elif option == '2':\n",
    "    rmatrix = extend_matrix_2(matrix, scale) # można zmienić na extend_matrix_1, ale 2 jest lepsza.\n",
    "else:\n",
    "    print(\"No option!\")\n",
    "    exit()\n",
    "    \n",
    "#print_arr(rmatrix)\n",
    "print(\"MSE: \", mse(matrix, rmatrix, scale, option))\n",
    "\n",
    "image = matrix_to_pgm(rmatrix)\n",
    "image.show()\n",
    "\n",
    "\n"
   ]
  }
 ],
 "metadata": {
  "kernelspec": {
   "display_name": "Python 3",
   "language": "python",
   "name": "python3"
  },
  "language_info": {
   "codemirror_mode": {
    "name": "ipython",
    "version": 3
   },
   "file_extension": ".py",
   "mimetype": "text/x-python",
   "name": "python",
   "nbconvert_exporter": "python",
   "pygments_lexer": "ipython3",
   "version": "3.12.0"
  }
 },
 "nbformat": 4,
 "nbformat_minor": 2
}
